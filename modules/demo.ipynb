{
 "cells": [
  {
   "cell_type": "code",
   "execution_count": 1,
   "metadata": {},
   "outputs": [],
   "source": [
    "from text_metadata_extractor import Extractor\n",
    "from basic_filter import BasicFilter\n",
    "from text_classifier import TextClassifier, TextClassifierOptions\n",
    "from node_classifier import NodeClassifier"
   ]
  },
  {
   "cell_type": "code",
   "execution_count": 2,
   "metadata": {},
   "outputs": [],
   "source": [
    "DATA_DIR = '..\\data'\n",
    "MODELS_DIR = '..\\models'\n",
    "WORD_VECTORS_DIR = '..\\word_vectors'\n",
    "CANDIDATES_FILE = '..\\data\\candidates.csv'\n",
    "SEPARATOR = ','"
   ]
  },
  {
   "cell_type": "code",
   "execution_count": null,
   "metadata": {},
   "outputs": [],
   "source": [
    "extractor = Extractor(preprocess=False)\n",
    "extractor.run(DATA_DIR)"
   ]
  },
  {
   "cell_type": "code",
   "execution_count": null,
   "metadata": {},
   "outputs": [],
   "source": [
    "basic_filter = BasicFilter(SEPARATOR)\n",
    "basic_filter.run(DATA_DIR)"
   ]
  },
  {
   "cell_type": "code",
   "execution_count": null,
   "metadata": {},
   "outputs": [],
   "source": [
    "text_classifier = TextClassifier(MODELS_DIR, WORD_VECTORS_DIR, SEPARATOR)\n",
    "text_classifier.run(DATA_DIR, TextClassifierOptions.ALL, merge=True, candidates_file=CANDIDATES_FILE)"
   ]
  },
  {
   "cell_type": "code",
   "execution_count": 3,
   "metadata": {},
   "outputs": [],
   "source": [
    "node_classifier = NodeClassifier(MODELS_DIR, SEPARATOR)\n",
    "node_classifier.run(DATA_DIR, CANDIDATES_FILE)"
   ]
  },
  {
   "cell_type": "code",
   "execution_count": null,
   "metadata": {},
   "outputs": [],
   "source": []
  }
 ],
 "metadata": {
  "kernelspec": {
   "display_name": "Python 3",
   "language": "python",
   "name": "python3"
  },
  "language_info": {
   "codemirror_mode": {
    "name": "ipython",
    "version": 3
   },
   "file_extension": ".py",
   "mimetype": "text/x-python",
   "name": "python",
   "nbconvert_exporter": "python",
   "pygments_lexer": "ipython3",
   "version": "3.6.8"
  }
 },
 "nbformat": 4,
 "nbformat_minor": 4
}
